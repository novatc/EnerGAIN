{
 "cells": [
  {
   "cell_type": "code",
   "execution_count": null,
   "id": "initial_id",
   "metadata": {
    "collapsed": true,
    "is_executing": true
   },
   "outputs": [],
   "source": [
    "from datetime import datetime\n",
    "import pandas as pd\n",
    "\n",
    "from matplotlib import pyplot as plt\n",
    "\n",
    "# read in the data under data/in-use/unscaled_train_data.csv\n",
    "\n",
    "dataset = pd.read_csv('../data/clean/dataset_01102018_01012023.csv')\n",
    "\n",
    "price_amount_relationship = dataset[['date', 'price', 'consumption']]\n",
    "price_amount_relationship['date'] = pd.to_datetime(price_amount_relationship['date'], format='%Y-%m-%d %H:%M:%S')\n"
   ]
  },
  {
   "cell_type": "code",
   "execution_count": null,
   "outputs": [],
   "source": [
    "grouped_by_hour = price_amount_relationship.groupby(price_amount_relationship['date'].dt.hour)\n",
    "grouped_by_hour = grouped_by_hour.mean()\n",
    "grouped_by_hour['time'] = grouped_by_hour.index"
   ],
   "metadata": {
    "collapsed": false,
    "is_executing": true
   },
   "id": "63abeb0a73c5064d"
  },
  {
   "cell_type": "code",
   "execution_count": null,
   "outputs": [],
   "source": [
    "plt.plot(grouped_by_hour['time'], grouped_by_hour['consumption'])\n",
    "# log scale\n",
    "plt.yscale('log')\n",
    "plt.show()"
   ],
   "metadata": {
    "collapsed": false,
    "is_executing": true
   },
   "id": "d4fb5d19abe55e60"
  }
 ],
 "metadata": {
  "kernelspec": {
   "display_name": "Python 3",
   "language": "python",
   "name": "python3"
  },
  "language_info": {
   "codemirror_mode": {
    "name": "ipython",
    "version": 2
   },
   "file_extension": ".py",
   "mimetype": "text/x-python",
   "name": "python",
   "nbconvert_exporter": "python",
   "pygments_lexer": "ipython2",
   "version": "2.7.6"
  }
 },
 "nbformat": 4,
 "nbformat_minor": 5
}
