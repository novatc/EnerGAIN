{
 "cells": [
  {
   "cell_type": "code",
   "execution_count": null,
   "id": "initial_id",
   "metadata": {
    "collapsed": true,
    "is_executing": true
   },
   "outputs": [],
   "source": [
    "from datetime import datetime\n",
    "import pandas as pd\n",
    "from matplotlib import pyplot as plt\n",
    "\n",
    "\n",
    "# read in the data under data/in-use/unscaled_train_data.csv\n",
    "\n",
    "day = pd.read_csv('../data/clean/trading_prices_01102018_01012023.csv')\n",
    "day['DateTime'] = pd.to_datetime(day['Date'] + ' ' + day['Start'], format='%d.%m.%Y %H:%M')\n",
    "day.sort_values(by='DateTime', inplace=True)"
   ]
  },
  {
   "cell_type": "code",
   "execution_count": null,
   "outputs": [],
   "source": [
    "target_col = 'Deutschland/Luxemburg [€/MWh] Original resolutions'\n",
    "day[target_col] = day[target_col].str.replace(',', '.').astype(float)\n",
    "day[\"Time\"] = day[\"DateTime\"].dt.strftime(\"%H:%M\")"
   ],
   "metadata": {
    "collapsed": false,
    "is_executing": true
   },
   "id": "1adb65fd8ee8038c"
  },
  {
   "cell_type": "code",
   "execution_count": null,
   "outputs": [],
   "source": [
    "grouped_by_hour = day.groupby(day['DateTime'].dt.hour)\n",
    "average_price_per_hour = grouped_by_hour[target_col].mean()"
   ],
   "metadata": {
    "collapsed": false,
    "is_executing": true
   },
   "id": "e7071619434db5b2"
  },
  {
   "cell_type": "code",
   "execution_count": null,
   "outputs": [],
   "source": [
    "# Calculate the 95th and 5th percentiles\n",
    "percentile_95 = grouped_by_hour[target_col].quantile(0.95)\n",
    "percentile_5 = grouped_by_hour[target_col].quantile(0.05)"
   ],
   "metadata": {
    "collapsed": false,
    "is_executing": true
   },
   "id": "cdc034de1df3f884"
  },
  {
   "cell_type": "code",
   "execution_count": null,
   "outputs": [],
   "source": [
    "# Prepare the plot\n",
    "plt.figure(figsize=(14, 7))\n",
    "\n",
    "x_axis_labels = [f\"{hour:02d}:00\" for hour in range(24)]\n",
    "plt.plot(x_axis_labels, average_price_per_hour, label='Average Price', color='blue', marker='o')\n",
    "# Create gradient fills\n",
    "number_of_bands = 10  # This will create 10 bands on each side of the mean for the gradient\n",
    "for i in range(1, number_of_bands + 1):\n",
    "    alpha_value = (1 / number_of_bands) * i  # Gradually increasing alpha value\n",
    "    percentile_range_higher = average_price_per_hour + (percentile_95 - average_price_per_hour) * (i / number_of_bands)\n",
    "    percentile_range_lower = average_price_per_hour - (average_price_per_hour - percentile_5) * (i / number_of_bands)\n",
    "    plt.fill_between(x_axis_labels, percentile_range_lower, percentile_range_higher, color='green', alpha=alpha_value * 0.2)\n",
    "\n",
    "plt.title('Durchschnittlicher Strompreis für jede Stunde mit Gradienten-Perzentilbereich')\n",
    "plt.xlabel('Stunde')\n",
    "plt.ylabel('Durchschnittspreis [€/MWh]')\n",
    "plt.xticks(rotation=45)\n",
    "plt.legend()\n",
    "plt.tight_layout()  # Adjust layout to prevent clipping of datetime labels\n",
    "plt.savefig('../plots/avg_price.svg', format='svg', dpi=1200)\n",
    "plt.show()"
   ],
   "metadata": {
    "collapsed": false,
    "is_executing": true
   },
   "id": "50772876eca5fdf"
  }
 ],
 "metadata": {
  "kernelspec": {
   "display_name": "Python 3",
   "language": "python",
   "name": "python3"
  },
  "language_info": {
   "codemirror_mode": {
    "name": "ipython",
    "version": 2
   },
   "file_extension": ".py",
   "mimetype": "text/x-python",
   "name": "python",
   "nbconvert_exporter": "python",
   "pygments_lexer": "ipython2",
   "version": "2.7.6"
  }
 },
 "nbformat": 4,
 "nbformat_minor": 5
}
